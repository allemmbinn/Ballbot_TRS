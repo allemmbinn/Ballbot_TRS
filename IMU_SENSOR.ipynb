{
  "nbformat": 4,
  "nbformat_minor": 0,
  "metadata": {
    "colab": {
      "provenance": []
    },
    "kernelspec": {
      "name": "python3",
      "display_name": "Python 3"
    },
    "language_info": {
      "name": "python"
    }
  },
  "cells": [
    {
      "cell_type": "code",
      "execution_count": null,
      "metadata": {
        "id": "zCNvvbXN1y2H"
      },
      "outputs": [],
      "source": [
        "#This is an independent code i.e not in its importable form\n",
        "#Mostly all the logic flow is written here"
      ]
    },
    {
      "cell_type": "markdown",
      "source": [
        " The IMU Sensor is a combined sensor consisting of an accelerometer, gyroscope,  magnetometer and a barometer in its most complex form.The sensor to be programmed is however, 6-axis which includes a 3-axis accelerometer and a 3-axis gyroscope."
      ],
      "metadata": {
        "id": "T2UZEiVIIzqO"
      }
    },
    {
      "cell_type": "code",
      "source": [
        "#necessary libraries to be imported"
      ],
      "metadata": {
        "id": "QYhrF-p_JOSo"
      },
      "execution_count": null,
      "outputs": []
    },
    {
      "cell_type": "code",
      "source": [
        "#step-1: Defining necessary quantities\n",
        "delay_time= 0.2 #define suitable delay time\n",
        "gyroscope_noise= 0.001/2 #define gyroscope noise\n",
        "accelerometer_noise = 0.01/2 #define accelerometer noise\n",
        "bias_noise= 0.003 #kalman filter bias noise"
      ],
      "metadata": {
        "id": "Na4W8CVJL2oA"
      },
      "execution_count": null,
      "outputs": []
    },
    {
      "cell_type": "code",
      "source": [],
      "metadata": {
        "id": "0HAuJpN4McNt"
      },
      "execution_count": null,
      "outputs": []
    }
  ]
}